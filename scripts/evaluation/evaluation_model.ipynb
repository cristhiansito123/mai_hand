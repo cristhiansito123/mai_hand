{
  "nbformat": 4,
  "nbformat_minor": 0,
  "metadata": {
    "colab": {
      "provenance": [],
      "authorship_tag": "ABX9TyNS3jEEUTk8XRClO4751HUG",
      "include_colab_link": true
    },
    "kernelspec": {
      "name": "python3",
      "display_name": "Python 3"
    },
    "language_info": {
      "name": "python"
    }
  },
  "cells": [
    {
      "cell_type": "markdown",
      "metadata": {
        "id": "view-in-github",
        "colab_type": "text"
      },
      "source": [
        "<a href=\"https://colab.research.google.com/github/cristhiansito123/mai_hand/blob/main/scripts/evaluation/evaluation_model.ipynb\" target=\"_parent\"><img src=\"https://colab.research.google.com/assets/colab-badge.svg\" alt=\"Open In Colab\"/></a>"
      ]
    },
    {
      "cell_type": "code",
      "source": [
        "from google.colab import drive\n",
        "drive.mount('/content/drive', force_remount=True)"
      ],
      "metadata": {
        "colab": {
          "base_uri": "https://localhost:8080/"
        },
        "id": "iE2YQkZahkm0",
        "outputId": "ababf8ce-c95f-41cd-94f1-f52b19d6ca9e"
      },
      "execution_count": 1,
      "outputs": [
        {
          "output_type": "stream",
          "name": "stdout",
          "text": [
            "Mounted at /content/drive\n"
          ]
        }
      ]
    },
    {
      "cell_type": "markdown",
      "source": [
        "## Se llama primero al modelo ya entrenado"
      ],
      "metadata": {
        "id": "rWCUqkTPhaaw"
      }
    },
    {
      "cell_type": "code",
      "source": [
        "from sklearn.ensemble import RandomForestClassifier\n",
        "from google.colab import drive"
      ],
      "metadata": {
        "id": "Je-AsbGOiK_6"
      },
      "execution_count": 2,
      "outputs": []
    },
    {
      "cell_type": "code",
      "source": [
        "import joblib"
      ],
      "metadata": {
        "id": "zNbaMO8iiQj8"
      },
      "execution_count": 3,
      "outputs": []
    },
    {
      "cell_type": "code",
      "execution_count": 4,
      "metadata": {
        "id": "36UCQBHLhWEs"
      },
      "outputs": [],
      "source": [
        "# Ruta del archivo del modelo en Google Drive\n",
        "model_path = '/content/drive/MyDrive/signal_language/asl_dataset/random_forest_model.pkl'\n",
        "\n",
        "# Cargar el modelo desde Google Drive\n",
        "model = joblib.load(model_path)"
      ]
    },
    {
      "cell_type": "code",
      "source": [],
      "metadata": {
        "id": "UAL4Wkm2ifX1"
      },
      "execution_count": null,
      "outputs": []
    }
  ]
}